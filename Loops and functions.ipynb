{
 "cells": [
  {
   "cell_type": "markdown",
   "id": "64ef23f3-6581-4587-8ae5-3916a0dc6de4",
   "metadata": {},
   "source": [
    "## LOOPS AND FUNCTIONS"
   ]
  },
  {
   "cell_type": "markdown",
   "id": "f92ec41b-0bbe-4527-a4bc-e8cddcd44fab",
   "metadata": {},
   "source": [
    "## Automating tractor movement"
   ]
  },
  {
   "cell_type": "markdown",
   "id": "64a26a3f-0602-48e8-8f34-e60dca753407",
   "metadata": {},
   "source": [
    "In this coding challenge, I will apply my Python programming skills to automate more complex movement of our farm equipment. I will use functions to make my code more modular, making it simpler to read, modify, and extend."
   ]
  },
  {
   "cell_type": "markdown",
   "id": "d04593c6-f8a4-467e-9081-13f17551887f",
   "metadata": {},
   "source": [
    "## Challenge 1: Plough the whole field"
   ]
  },
  {
   "cell_type": "markdown",
   "id": "fafcd3dc-4097-4660-bf2c-93a6d3b81004",
   "metadata": {},
   "source": [
    "⚠️ Do not change the name tractor_movement_standard()."
   ]
  },
  {
   "cell_type": "code",
   "execution_count": 20,
   "id": "bfcba9f8-3da5-4f65-b60f-67a1bd5e5bd9",
   "metadata": {},
   "outputs": [],
   "source": [
    "def tractor_movement_standard(field):\n",
    "    \"\"\"\n",
    "    Generate standard tractor movements for ploughing a field.\n",
    "    \n",
    "    Args:\n",
    "    field (list of lists): A 2D list representing the field, where each element\n",
    "                           represents a section of the field.\n",
    "                           \n",
    "    Returns:\n",
    "    list of tuples: A list of tuples representing the movements of the tractor \n",
    "                    in standard ploughing order. Each tuple contains the \n",
    "                    coordinates (col, row) of the tractor's position.\n",
    "    \"\"\"\n",
    "    plough_movements = []\n",
    "    for col in range(len(field)):\n",
    "        for row in range(len(field[col])):\n",
    "            plough_movements.append((col, row))\n",
    "        \n",
    "    return plough_movements\n"
   ]
  },
  {
   "cell_type": "markdown",
   "id": "bbe45f00-ae4b-481f-91c2-a00f7a162768",
   "metadata": {},
   "source": [
    "Input"
   ]
  },
  {
   "cell_type": "code",
   "execution_count": 21,
   "id": "84ae4351-862f-4078-807a-9fc737ba7f97",
   "metadata": {},
   "outputs": [
    {
     "data": {
      "text/plain": [
       "[(0, 0),\n",
       " (0, 1),\n",
       " (0, 2),\n",
       " (0, 3),\n",
       " (0, 4),\n",
       " (1, 0),\n",
       " (1, 1),\n",
       " (1, 2),\n",
       " (1, 3),\n",
       " (1, 4),\n",
       " (2, 0),\n",
       " (2, 1),\n",
       " (2, 2),\n",
       " (2, 3),\n",
       " (2, 4),\n",
       " (3, 0),\n",
       " (3, 1),\n",
       " (3, 2),\n",
       " (3, 3),\n",
       " (3, 4),\n",
       " (4, 0),\n",
       " (4, 1),\n",
       " (4, 2),\n",
       " (4, 3),\n",
       " (4, 4),\n",
       " (5, 0),\n",
       " (5, 1),\n",
       " (5, 2),\n",
       " (5, 3),\n",
       " (5, 4),\n",
       " (6, 0),\n",
       " (6, 1),\n",
       " (6, 2),\n",
       " (6, 3),\n",
       " (6, 4),\n",
       " (7, 0),\n",
       " (7, 1),\n",
       " (7, 2),\n",
       " (7, 3),\n",
       " (7, 4),\n",
       " (8, 0),\n",
       " (8, 1),\n",
       " (8, 2),\n",
       " (8, 3),\n",
       " (8, 4),\n",
       " (9, 0),\n",
       " (9, 1),\n",
       " (9, 2),\n",
       " (9, 3),\n",
       " (9, 4)]"
      ]
     },
     "execution_count": 21,
     "metadata": {},
     "output_type": "execute_result"
    }
   ],
   "source": [
    "field_standard = [\n",
    "    ['soil3', 'soil3', 'soil1', 'soil2', 'soil2'],\n",
    "    ['soil2', 'soil3', 'soil2', 'soil1', 'soil3'],\n",
    "    ['soil2', 'soil3', 'soil1', 'soil3', 'soil3'],\n",
    "    ['soil3', 'soil2', 'soil3', 'soil3', 'soil2'],\n",
    "    ['soil3', 'soil2', 'soil1', 'soil3', 'soil2'],\n",
    "    ['soil2', 'soil3', 'soil3', 'soil1', 'soil3'],\n",
    "    ['soil3', 'soil1', 'soil3', 'soil2', 'soil2'],\n",
    "    ['soil2', 'soil1', 'soil2', 'soil2', 'soil1'],\n",
    "    ['soil1', 'soil1', 'soil3', 'soil2', 'soil3'],\n",
    "    ['soil3', 'soil3', 'soil3', 'soil1', 'soil1']\n",
    "]\n",
    "\n",
    "tractor_movement_standard(field_standard)"
   ]
  },
  {
   "cell_type": "code",
   "execution_count": 22,
   "id": "7f2e4aae-fd1c-480c-bbb7-6d5374fc03ff",
   "metadata": {},
   "outputs": [
    {
     "data": {
      "text/plain": [
       "[(0, 0),\n",
       " (0, 1),\n",
       " (0, 2),\n",
       " (0, 3),\n",
       " (0, 4),\n",
       " (0, 5),\n",
       " (0, 6),\n",
       " (0, 7),\n",
       " (0, 8),\n",
       " (0, 9),\n",
       " (0, 10),\n",
       " (0, 11),\n",
       " (0, 12),\n",
       " (0, 13),\n",
       " (0, 14),\n",
       " (1, 0),\n",
       " (1, 1),\n",
       " (1, 2),\n",
       " (1, 3),\n",
       " (1, 4),\n",
       " (1, 5),\n",
       " (1, 6)]"
      ]
     },
     "execution_count": 22,
     "metadata": {},
     "output_type": "execute_result"
    }
   ],
   "source": [
    "field_wide = [\n",
    "    ['soil3', 'soil3', 'soil1', 'soil2', 'soil2', 'soil3', 'soil3', 'soil1', 'soil2', 'soil2', 'soil3', 'soil3', 'soil1', 'soil2', 'soil2'],\n",
    "    ['soil3', 'soil3', 'soil1', 'soil2','soil2', 'soil3', 'soil3']\n",
    "]\n",
    "\n",
    "tractor_movement_standard(field_wide)"
   ]
  },
  {
   "cell_type": "markdown",
   "id": "ea5a6aaa-6014-495b-8b06-2889e155635e",
   "metadata": {},
   "source": [
    "## Challenge 2: Turning the tractor around"
   ]
  },
  {
   "cell_type": "code",
   "execution_count": 23,
   "id": "bc897a3a-1147-4383-bd12-140bb57a674c",
   "metadata": {},
   "outputs": [],
   "source": [
    "def reverse_list(input_list):\n",
    "    \"\"\"\n",
    "    Reverse the order of elements in the input list.\n",
    "    \n",
    "    Args:\n",
    "    input_list (list): The list to be reversed.\n",
    "    \n",
    "    Returns:\n",
    "    list: The reversed list.\n",
    "    \"\"\"\n",
    "    return input_list[::-1]\n"
   ]
  },
  {
   "cell_type": "markdown",
   "id": "638b4243-ec6b-422b-96ab-7bb120a6ad20",
   "metadata": {},
   "source": [
    "Input 1"
   ]
  },
  {
   "cell_type": "code",
   "execution_count": 24,
   "id": "509087f1-0e50-49a5-a459-9dbd573cee32",
   "metadata": {},
   "outputs": [
    {
     "data": {
      "text/plain": [
       "[4, 3, 2, 1, 0]"
      ]
     },
     "execution_count": 24,
     "metadata": {},
     "output_type": "execute_result"
    }
   ],
   "source": [
    "current_row = [0, 1, 2, 3, 4]\n",
    "\n",
    "reverse_list(current_row)"
   ]
  },
  {
   "cell_type": "markdown",
   "id": "b59f14f7-b750-4d72-91eb-948993babe93",
   "metadata": {},
   "source": [
    "Input 2"
   ]
  },
  {
   "cell_type": "code",
   "execution_count": 25,
   "id": "a707e496-eb12-40f1-8e50-f5339e140e37",
   "metadata": {},
   "outputs": [
    {
     "data": {
      "text/plain": [
       "[4, 0, 2, 3, 1]"
      ]
     },
     "execution_count": 25,
     "metadata": {},
     "output_type": "execute_result"
    }
   ],
   "source": [
    "current_row = [1, 3, 2, 0, 4]\n",
    "\n",
    "reverse_list(current_row)"
   ]
  },
  {
   "cell_type": "markdown",
   "id": "000a4355-2961-4d1d-9df0-5eebfe88d3fc",
   "metadata": {},
   "source": [
    "Input 3"
   ]
  },
  {
   "cell_type": "markdown",
   "id": "4b48f9c9-b40a-44e6-965d-45aecf3aa26b",
   "metadata": {},
   "source": [
    "## Challenge 3: Ploughing a field realistically"
   ]
  },
  {
   "cell_type": "code",
   "execution_count": 26,
   "id": "dd3a6a3a-18ae-4bf0-82e7-13b06f5e7bbc",
   "metadata": {},
   "outputs": [],
   "source": [
    "def tractor_movement_realistic(field):\n",
    "    \"\"\"\n",
    "    Generate realistic tractor movements for ploughing a field in a zigzag pattern.\n",
    "    \n",
    "    Args:\n",
    "    field (list of lists): A 2D list representing the field, where each element\n",
    "                           represents a section of the field.\n",
    "                           \n",
    "    Returns:\n",
    "    list of tuples: A list of tuples representing the movements of the tractor \n",
    "                    in a zigzag pattern for ploughing the field. Each tuple \n",
    "                    contains the coordinates (col, row) of the tractor's position.\n",
    "    \"\"\"\n",
    "    plough_movements = []\n",
    "    for col in range(len(field)):\n",
    "        # Get the current row\n",
    "        current_row = range(len(field[col]))\n",
    "\n",
    "        # Reverse the row if the column number is odd\n",
    "        if col % 2 != 0:\n",
    "            current_row = reverse_list(current_row)\n",
    "\n",
    "        # Append the coordinates to the plough movements\n",
    "        for row in current_row:\n",
    "            plough_movements.append((col, row))\n",
    "\n",
    "    return plough_movements\n"
   ]
  },
  {
   "cell_type": "markdown",
   "id": "a59339f6-a300-436a-b52f-c1c867971c6f",
   "metadata": {},
   "source": [
    "Input 1:"
   ]
  },
  {
   "cell_type": "code",
   "execution_count": 27,
   "id": "9205cec0-f525-4f48-9764-f82f5efc8d55",
   "metadata": {},
   "outputs": [
    {
     "data": {
      "text/plain": [
       "[(0, 0),\n",
       " (0, 1),\n",
       " (0, 2),\n",
       " (0, 3),\n",
       " (0, 4),\n",
       " (1, 4),\n",
       " (1, 3),\n",
       " (1, 2),\n",
       " (1, 1),\n",
       " (1, 0),\n",
       " (2, 0),\n",
       " (2, 1),\n",
       " (2, 2),\n",
       " (2, 3),\n",
       " (2, 4),\n",
       " (3, 4),\n",
       " (3, 3),\n",
       " (3, 2),\n",
       " (3, 1),\n",
       " (3, 0),\n",
       " (4, 0),\n",
       " (4, 1),\n",
       " (4, 2),\n",
       " (4, 3),\n",
       " (4, 4),\n",
       " (5, 4),\n",
       " (5, 3),\n",
       " (5, 2),\n",
       " (5, 1),\n",
       " (5, 0),\n",
       " (6, 0),\n",
       " (6, 1),\n",
       " (6, 2),\n",
       " (6, 3),\n",
       " (6, 4),\n",
       " (7, 4),\n",
       " (7, 3),\n",
       " (7, 2),\n",
       " (7, 1),\n",
       " (7, 0),\n",
       " (8, 0),\n",
       " (8, 1),\n",
       " (8, 2),\n",
       " (8, 3),\n",
       " (8, 4),\n",
       " (9, 4),\n",
       " (9, 3),\n",
       " (9, 2),\n",
       " (9, 1),\n",
       " (9, 0)]"
      ]
     },
     "execution_count": 27,
     "metadata": {},
     "output_type": "execute_result"
    }
   ],
   "source": [
    "field_standard = [\n",
    "    ['soil3', 'soil3', 'soil1', 'soil2', 'soil2'],\n",
    "    ['soil2', 'soil3', 'soil2', 'soil1', 'soil3'],\n",
    "    ['soil2', 'soil3', 'soil1', 'soil3', 'soil3'],\n",
    "    ['soil3', 'soil2', 'soil3', 'soil3', 'soil2'],\n",
    "    ['soil3', 'soil2', 'soil1', 'soil3', 'soil2'],\n",
    "    ['soil2', 'soil3', 'soil3', 'soil1', 'soil3'],\n",
    "    ['soil3', 'soil1', 'soil3', 'soil2', 'soil2'],\n",
    "    ['soil2', 'soil1', 'soil2', 'soil2', 'soil1'],\n",
    "    ['soil1', 'soil1', 'soil3', 'soil2', 'soil3'],\n",
    "    ['soil3', 'soil3', 'soil3', 'soil1', 'soil1']\n",
    "]\n",
    "\n",
    "tractor_movement_realistic(field_standard)"
   ]
  },
  {
   "cell_type": "markdown",
   "id": "45ffd858-c511-4735-93a7-5698365e0188",
   "metadata": {},
   "source": [
    "Input 1:"
   ]
  },
  {
   "cell_type": "code",
   "execution_count": 28,
   "id": "0bc118a9-e276-4e4a-9b4c-524e2b01daf4",
   "metadata": {},
   "outputs": [
    {
     "data": {
      "text/plain": [
       "[(0, 0),\n",
       " (0, 1),\n",
       " (0, 2),\n",
       " (0, 3),\n",
       " (0, 4),\n",
       " (1, 4),\n",
       " (1, 3),\n",
       " (1, 2),\n",
       " (1, 1),\n",
       " (1, 0),\n",
       " (2, 0),\n",
       " (2, 1),\n",
       " (2, 2),\n",
       " (2, 3),\n",
       " (2, 4),\n",
       " (3, 4),\n",
       " (3, 3),\n",
       " (3, 2),\n",
       " (3, 1),\n",
       " (3, 0),\n",
       " (4, 0),\n",
       " (4, 1),\n",
       " (4, 2),\n",
       " (4, 3),\n",
       " (4, 4)]"
      ]
     },
     "execution_count": 28,
     "metadata": {},
     "output_type": "execute_result"
    }
   ],
   "source": [
    "field_5x5 = [\n",
    " ['soil', 'soil', 'soil', 'soil', 'soil'],\n",
    " ['soil', 'soil', 'soil', 'soil', 'soil'],\n",
    " ['soil', 'soil', 'soil', 'soil', 'soil'],\n",
    " ['soil', 'soil', 'soil', 'soil', 'soil'],\n",
    " ['soil', 'soil', 'soil', 'soil', 'soil'],\n",
    "]\n",
    "tractor_movement_realistic(field_5x5)"
   ]
  },
  {
   "cell_type": "code",
   "execution_count": null,
   "id": "03dd79a4-2396-42bd-a256-7a7264d5f758",
   "metadata": {},
   "outputs": [],
   "source": []
  }
 ],
 "metadata": {
  "kernelspec": {
   "display_name": "Python 3 (ipykernel)",
   "language": "python",
   "name": "python3"
  },
  "language_info": {
   "codemirror_mode": {
    "name": "ipython",
    "version": 3
   },
   "file_extension": ".py",
   "mimetype": "text/x-python",
   "name": "python",
   "nbconvert_exporter": "python",
   "pygments_lexer": "ipython3",
   "version": "3.11.5"
  }
 },
 "nbformat": 4,
 "nbformat_minor": 5
}
